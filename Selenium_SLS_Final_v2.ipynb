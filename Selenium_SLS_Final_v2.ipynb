{
 "cells": [
  {
   "cell_type": "markdown",
   "metadata": {},
   "source": [
    "<b>Selenium_StoreLocator_Scraper\n",
    "<p>Version 2.0"
   ]
  },
  {
   "cell_type": "code",
   "execution_count": 36,
   "metadata": {},
   "outputs": [],
   "source": [
    "from bs4 import BeautifulSoup\n",
    "import pandas as pd\n",
    "import numpy as np\n",
    "import re\n",
    "import unittest\n",
    "import time\n",
    "import html\n",
    "from selenium import webdriver\n",
    "from selenium.webdriver.common.keys import Keys\n",
    "from selenium.webdriver.support.ui import Select\n",
    "from bs4 import BeautifulSoup\n",
    "import requests"
   ]
  },
  {
   "cell_type": "markdown",
   "metadata": {},
   "source": [
    "<b>OPEN BROWSER"
   ]
  },
  {
   "cell_type": "code",
   "execution_count": 37,
   "metadata": {},
   "outputs": [],
   "source": [
    "chrome_options = webdriver.ChromeOptions()\n",
    "chrome_options.add_argument(\"--incognito\")\n",
    "chrome_options.add_argument(\"--disable-popup-blocking\")\n",
    "browser = webdriver.Chrome(\"C:\\Program Files (x86)\\Google\\Chrome\\Application\\chromedriver\")\n"
   ]
  },
  {
   "cell_type": "markdown",
   "metadata": {},
   "source": [
    "<b> CREATE CİTY/COUNTRY LİST"
   ]
  },
  {
   "cell_type": "code",
   "execution_count": 3,
   "metadata": {},
   "outputs": [],
   "source": [
    "#Magmatic Research City List\n",
    "#citylist=['Buenos Aires', 'Sydney', 'Melbourne', 'Vienna', 'Brussels', 'Sao Paulo', 'Sofia', 'Montreal', 'Vancouver', 'Santiago', 'Shanghai', 'Prague', 'Copenhagen', 'Helsinki', 'Paris', 'Bordeaux', 'Nice', 'Marseille', 'Tbilisi', 'Berlin', 'Munich', 'Hamburg', 'Accra', 'Hong Kong', 'Budapest', 'Mumbai', 'New Delhi', 'Jakarta', 'Dublin', 'Tel Aviv', 'Rome', 'Milan', 'Florence', 'Abidjan', 'Tokyo', 'Nairobi', 'Beirut', 'Kuala Lumpur', 'Mexico City', 'Monte Carlo Marrakech', 'Amsterdam', 'Antwerp', 'Auckland', 'Lagos', 'Oslo', 'Warsaw', 'Krakow', 'Lisbon', 'Bucharest', 'Moscow', 'Belgrade', 'Singapore', 'Johannesbrug', 'Seoul', 'Barcelona', 'Madrid', 'Stockholm', 'Zurich', 'Bankok', 'Istanbul', 'Dubai', 'Kiev', 'Edinburgh', 'London', 'New York', 'Los Angeles', 'Miami', 'Boston', 'Chicago', 'San Francisco']\n",
    "#citylist = list(pd.Series(citylist).str.lower()) #Lower case ===> city names"
   ]
  },
  {
   "cell_type": "code",
   "execution_count": 79,
   "metadata": {},
   "outputs": [
    {
     "data": {
      "text/html": [
       "<div>\n",
       "<style scoped>\n",
       "    .dataframe tbody tr th:only-of-type {\n",
       "        vertical-align: middle;\n",
       "    }\n",
       "\n",
       "    .dataframe tbody tr th {\n",
       "        vertical-align: top;\n",
       "    }\n",
       "\n",
       "    .dataframe thead th {\n",
       "        text-align: right;\n",
       "    }\n",
       "</style>\n",
       "<table border=\"1\" class=\"dataframe\">\n",
       "  <thead>\n",
       "    <tr style=\"text-align: right;\">\n",
       "      <th></th>\n",
       "      <th>Store Name</th>\n",
       "      <th>Address</th>\n",
       "      <th>Info1</th>\n",
       "    </tr>\n",
       "  </thead>\n",
       "  <tbody>\n",
       "  </tbody>\n",
       "</table>\n",
       "</div>"
      ],
      "text/plain": [
       "Empty DataFrame\n",
       "Columns: [Store Name, Address, Info1]\n",
       "Index: []"
      ]
     },
     "execution_count": 79,
     "metadata": {},
     "output_type": "execute_result"
    }
   ],
   "source": [
    "list_df = pd.DataFrame(columns=('Store Name', 'Address','Info1'))\n",
    "list_df"
   ]
  },
  {
   "cell_type": "markdown",
   "metadata": {},
   "source": [
    "<b>CİTY/COUNTRY LOOP</b>"
   ]
  },
  {
   "cell_type": "code",
   "execution_count": null,
   "metadata": {},
   "outputs": [],
   "source": [
    "for city in LISTNAME:  #change according to your listname\n",
    "    try:\n",
    "        browser.get(\"WEBSİTE LINK\")                                       #options = chrome_options\n",
    "        time.sleep(3) #wait for website to open\n",
    "        #Get element to you will enter City and click\n",
    "        searcher =browser.find_element_by_xpath(\"XPATH\").click()   \n",
    "        searcher.send_keys(city)\n",
    "        #how to press enter ====> searcher.send_keys(Keys.ENTER) #enter\n",
    "        xpath = \"XPATH\".format(city)  #bonus\n",
    "        element= browser.find_element_by_xpath(xpath).click()  \n",
    "\n",
    "        #getouterhtml of element that involves storeinformation.\n",
    "        storelist_html = browser.find_element_by_xpath(\"XPATH\").get_attribute('outerHTML')\n",
    "\n",
    "        beautifulscrape(storelist_html,list_df)     ####.....SCRAPE-BeautifulSoup4.....#####\n",
    "\n",
    "        print(\"LETS GOOO\")\n",
    "    except:\n",
    "        print(\"An error occured\")"
   ]
  },
  {
   "cell_type": "markdown",
   "metadata": {},
   "source": [
    "<b>SCRAPE-BeautifulSoup4</b>"
   ]
  },
  {
   "cell_type": "code",
   "execution_count": 84,
   "metadata": {},
   "outputs": [],
   "source": [
    "def beautifulscrape(storelist_html,list_df): \n",
    "    soup = BeautifulSoup(storelist_html)               #html loaded        \n",
    "    next = soup.find_all(\"div\", class_=\"info-store\")   #grab all stores in html\n",
    "    for i in range(len(next)):\n",
    "        soup = next[i]\n",
    "        store_name= soup.\n",
    "        store_adress = soup.\n",
    "        info1= soup.\n",
    "        info2= soup.\n",
    "        info3= soup.      \n",
    "        #This is HOW TO APPEND LİST as ROW into Pandas Dataframe\n",
    "        list_df.loc[len(list_df)] = [store_name, store_adress, info1,info2,info3]\n",
    "    print(\"SUCCESS\")\n",
    "    print(len(list_df))\n",
    "    return list_df"
   ]
  },
  {
   "cell_type": "code",
   "execution_count": null,
   "metadata": {},
   "outputs": [],
   "source": [
    "list_df #check"
   ]
  },
  {
   "cell_type": "code",
   "execution_count": 87,
   "metadata": {},
   "outputs": [],
   "source": [
    "list_df.to_excel(r'C:\\Users\\Mefa\\Desktop\\FİLENAME.xlsx') #Don't forget to add '.csv' at the end of the path"
   ]
  },
  {
   "cell_type": "code",
   "execution_count": 35,
   "metadata": {},
   "outputs": [],
   "source": [
    "browser.quit()"
   ]
  }
 ],
 "metadata": {
  "kernelspec": {
   "display_name": "Python 3",
   "language": "python",
   "name": "python3"
  },
  "language_info": {
   "codemirror_mode": {
    "name": "ipython",
    "version": 3
   },
   "file_extension": ".py",
   "mimetype": "text/x-python",
   "name": "python",
   "nbconvert_exporter": "python",
   "pygments_lexer": "ipython3",
   "version": "3.7.3"
  }
 },
 "nbformat": 4,
 "nbformat_minor": 4
}
