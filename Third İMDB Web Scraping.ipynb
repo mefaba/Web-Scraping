{
 "cells": [
  {
   "cell_type": "code",
   "execution_count": 81,
   "metadata": {},
   "outputs": [],
   "source": [
    "from bs4 import BeautifulSoup\n",
    "import requests\n",
    "import csv"
   ]
  },
  {
   "cell_type": "code",
   "execution_count": 82,
   "metadata": {},
   "outputs": [],
   "source": [
    "source = requests.get('https://www.imdb.com/user/ur60196347/ratings?ref_=nv_usr_rt_4').text\n",
    "\n",
    "soup = BeautifulSoup(source, 'lxml')\n",
    "#print(soup.prettify())"
   ]
  },
  {
   "cell_type": "code",
   "execution_count": 83,
   "metadata": {},
   "outputs": [
    {
     "data": {
      "text/plain": [
       "31"
      ]
     },
     "execution_count": 83,
     "metadata": {},
     "output_type": "execute_result"
    }
   ],
   "source": [
    "filename = \"product.csv\"\n",
    "f = open(filename, \"w\")\n",
    "headers = \"Movie Title, MyRating, Summary\"\n",
    "f.write(headers + \"\\n\")"
   ]
  },
  {
   "cell_type": "code",
   "execution_count": 84,
   "metadata": {},
   "outputs": [],
   "source": [
    "#csv_file = open('cms_scrape.csv', 'w')\n",
    "\n",
    "#csv_writer = csv.writer(csv_file)\n",
    "\n",
    "#csv_writer.writerow([\"Movie Title\", \"MyRating\",\"Summary\"])"
   ]
  },
  {
   "cell_type": "code",
   "execution_count": 85,
   "metadata": {},
   "outputs": [],
   "source": [
    "eachmovie = soup.findAll(\"div\", class_=\"lister-item mode-detail\")\n",
    "#print(eachmovie.prettify())"
   ]
  },
  {
   "cell_type": "markdown",
   "metadata": {},
   "source": [
    "__Final Code:__"
   ]
  },
  {
   "cell_type": "code",
   "execution_count": null,
   "metadata": {},
   "outputs": [],
   "source": [
    "for movie in eachmovie:\n",
    "    movie_item = movie.find(\"div\", class_=\"lister-item-content\")\n",
    "    movietitle = movie_item.h3.a.text\n",
    "    print(movietitle)\n",
    "    myratingitem_step1 = movie_item.find(\"div\", class_=\"ipl-rating-widget\")\n",
    "    #print(myratingitem_step1.prettify())\n",
    "    myrating = myratingitem_step1.find(\"span\", class_=\"ipl-rating-star__rating\").text\n",
    "    print(myrating)\n",
    "    summary1 = movie.findAll(\"p\")\n",
    "    summary = summary1[2].text.strip()\n",
    "    print(summary)\n",
    "    #csv_writer.writerow([movietitle,myrating,summary])\n",
    "    f.write(movietitle + \",\" + myrating + \",\" + summary.replace(\",\", \"\") +\"\\n\")"
   ]
  },
  {
   "cell_type": "code",
   "execution_count": 63,
   "metadata": {},
   "outputs": [],
   "source": [
    "#eachmovie[1]"
   ]
  },
  {
   "cell_type": "code",
   "execution_count": 64,
   "metadata": {},
   "outputs": [],
   "source": [
    "#movie_title = eachmovie.find(\"div\", class_=\"lister-item-content\")"
   ]
  },
  {
   "cell_type": "code",
   "execution_count": 65,
   "metadata": {},
   "outputs": [],
   "source": [
    "#movie_title = movie_item.h3.a.text\n",
    "#print(movietitle)"
   ]
  },
  {
   "cell_type": "code",
   "execution_count": 66,
   "metadata": {},
   "outputs": [],
   "source": [
    "#myratingitem_step1 = movie_item.find(\"div\", class_=\"ipl-rating-widget\")\n",
    "#print(myratingitem_step1.prettify())"
   ]
  },
  {
   "cell_type": "code",
   "execution_count": 67,
   "metadata": {},
   "outputs": [],
   "source": [
    "#myrating = myratingitem_step1.find(\"span\", class_=\"ipl-rating-star__rating\").text\n",
    "#print(myrating)"
   ]
  },
  {
   "cell_type": "code",
   "execution_count": 68,
   "metadata": {},
   "outputs": [],
   "source": [
    "#movie_item1 = eachmovie[0]\n",
    "#summary1 = movie_item1.findAll(\"p\")\n",
    "#summary = summary1[2].text\n",
    "#print(summary)"
   ]
  },
  {
   "cell_type": "code",
   "execution_count": 69,
   "metadata": {},
   "outputs": [],
   "source": [
    "#eachmovie = soup.findAll(\"div\", class_=\"lister-item mode-detail\")\n",
    "#print(eachmovie.prettify())"
   ]
  },
  {
   "cell_type": "code",
   "execution_count": null,
   "metadata": {},
   "outputs": [],
   "source": []
  },
  {
   "cell_type": "code",
   "execution_count": 87,
   "metadata": {},
   "outputs": [],
   "source": [
    "#csv_file.close()\n",
    "f.close()"
   ]
  },
  {
   "cell_type": "code",
   "execution_count": null,
   "metadata": {},
   "outputs": [],
   "source": []
  },
  {
   "cell_type": "code",
   "execution_count": null,
   "metadata": {},
   "outputs": [],
   "source": []
  },
  {
   "cell_type": "code",
   "execution_count": null,
   "metadata": {},
   "outputs": [],
   "source": []
  }
 ],
 "metadata": {
  "kernelspec": {
   "display_name": "Python 3",
   "language": "python",
   "name": "python3"
  },
  "language_info": {
   "codemirror_mode": {
    "name": "ipython",
    "version": 3
   },
   "file_extension": ".py",
   "mimetype": "text/x-python",
   "name": "python",
   "nbconvert_exporter": "python",
   "pygments_lexer": "ipython3",
   "version": "3.6.5"
  }
 },
 "nbformat": 4,
 "nbformat_minor": 2
}
