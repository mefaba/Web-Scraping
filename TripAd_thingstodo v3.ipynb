https://raw.githubusercontent.com/mefaba/Web-Scraping/master/TripAd_thingstodo%20v3.ipynb
